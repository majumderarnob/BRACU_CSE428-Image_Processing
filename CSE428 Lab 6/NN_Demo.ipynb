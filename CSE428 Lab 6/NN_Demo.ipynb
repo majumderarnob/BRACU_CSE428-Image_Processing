{
  "nbformat": 4,
  "nbformat_minor": 0,
  "metadata": {
    "colab": {
      "provenance": []
    },
    "kernelspec": {
      "name": "python3",
      "display_name": "Python 3"
    },
    "language_info": {
      "name": "python"
    },
    "accelerator": "GPU"
  },
  "cells": [
    {
      "cell_type": "code",
      "metadata": {
        "id": "FXh-oHRg9W8g"
      },
      "source": [
        "#import libraries\n",
        "\n",
        "import tensorflow as tf # import torch\n",
        "import matplotlib.pyplot as plt\n",
        "import numpy as np"
      ],
      "execution_count": null,
      "outputs": []
    },
    {
      "cell_type": "code",
      "metadata": {
        "id": "6v_MLotb9d08",
        "colab": {
          "base_uri": "https://localhost:8080/"
        },
        "outputId": "bd0fd823-039d-448e-df24-ebac21db6725"
      },
      "source": [
        "#import dataset\n",
        "\n",
        "(x_train, y_train),(x_test, y_test) = tf.keras.datasets.mnist.load_data()"
      ],
      "execution_count": null,
      "outputs": [
        {
          "output_type": "stream",
          "name": "stdout",
          "text": [
            "Downloading data from https://storage.googleapis.com/tensorflow/tf-keras-datasets/mnist.npz\n",
            "11490434/11490434 [==============================] - 0s 0us/step\n"
          ]
        }
      ]
    },
    {
      "cell_type": "code",
      "metadata": {
        "colab": {
          "base_uri": "https://localhost:8080/"
        },
        "id": "7QfJmxbe9mqf",
        "outputId": "5c0a3a7a-a56f-450a-ba17-60086aea9395"
      },
      "source": [
        "print(x_train.shape)\n",
        "print(y_train.shape)\n",
        "print(x_test.shape)\n",
        "print(y_test.shape)"
      ],
      "execution_count": null,
      "outputs": [
        {
          "output_type": "stream",
          "name": "stdout",
          "text": [
            "(60000, 28, 28)\n",
            "(60000,)\n",
            "(10000, 28, 28)\n",
            "(10000,)\n"
          ]
        }
      ]
    },
    {
      "cell_type": "code",
      "metadata": {
        "colab": {
          "base_uri": "https://localhost:8080/",
          "height": 465
        },
        "id": "SgLSQ9Dr-C47",
        "outputId": "71b8137a-132d-4ca5-c75a-5882f5a92416"
      },
      "source": [
        "sample_id = 55\n",
        "plt.imshow(x_train[sample_id, :, :], cmap=\"gray\")\n",
        "plt.show()\n",
        "print(\"Label: \", y_train[sample_id])\n",
        "print(\"Max value: \", np.max(x_train[sample_id]))"
      ],
      "execution_count": null,
      "outputs": [
        {
          "output_type": "display_data",
          "data": {
            "text/plain": [
              "<Figure size 640x480 with 1 Axes>"
            ],
            "image/png": "[encoded data removed]"
          },
          "metadata": {}
        },
        {
          "output_type": "stream",
          "name": "stdout",
          "text": [
            "Label:  8\n",
            "Max value:  255\n"
          ]
        }
      ]
    },
    {
      "cell_type": "code",
      "metadata": {
        "id": "S9y08NPS-9J9"
      },
      "source": [
        "num_classes = 10\n",
        "\n",
        "x_train = x_train / 255.0\n",
        "y_train = tf.keras.utils.to_categorical(y_train, num_classes=num_classes)\n",
        "\n",
        "x_test = x_test / 255.0\n",
        "y_test = tf.keras.utils.to_categorical(y_test, num_classes=num_classes)"
      ],
      "execution_count": null,
      "outputs": []
    },
    {
      "cell_type": "code",
      "metadata": {
        "colab": {
          "base_uri": "https://localhost:8080/",
          "height": 465
        },
        "id": "iWoT5g3k_ctL",
        "outputId": "85c519ce-c8d6-4a43-9848-0e55dde2edfe"
      },
      "source": [
        "plt.imshow(x_train[sample_id], cmap=\"gray\")\n",
        "plt.show()\n",
        "print(\"Label: \", y_train[sample_id])\n",
        "print(\"Max value: \", np.max(x_train[sample_id]))"
      ],
      "execution_count": null,
      "outputs": [
        {
          "output_type": "display_data",
          "data": {
            "text/plain": [
              "<Figure size 640x480 with 1 Axes>"
            ],
            "image/png": "[encoded data removed]"
          },
          "metadata": {}
        },
        {
          "output_type": "stream",
          "name": "stdout",
          "text": [
            "Label:  [0. 0. 0. 0. 0. 0. 0. 0. 1. 0.]\n",
            "Max value:  1.0\n"
          ]
        }
      ]
    },
    {
      "cell_type": "code",
      "metadata": {
        "id": "13qB3SSg9w1V"
      },
      "source": [
        "img_rows, img_cols = 28, 28\n",
        "num_channels = 1\n",
        "input_shape = (img_rows, img_cols, num_channels)"
      ],
      "execution_count": null,
      "outputs": []
    },
    {
      "cell_type": "code",
      "metadata": {
        "id": "aXRN1E3H95DI"
      },
      "source": [
        "#define NN model\n",
        "\n",
        "model = tf.keras.models.Sequential()\n",
        "model.add(tf.keras.layers.Flatten())\n",
        "model.add(tf.keras.layers.Dense(128, activation='relu')) #hidden layer\n",
        "model.add(tf.keras.layers.Dense(num_classes, activation='softmax')) #output layer"
      ],
      "execution_count": null,
      "outputs": []
    },
    {
      "cell_type": "code",
      "metadata": {
        "id": "jC0g5QDq-7na"
      },
      "source": [
        "#compilation\n",
        "\n",
        "model.compile(optimizer='sgd',\n",
        "              loss='categorical_crossentropy',\n",
        "              metrics=['accuracy'])"
      ],
      "execution_count": null,
      "outputs": []
    },
    {
      "cell_type": "code",
      "metadata": {
        "colab": {
          "base_uri": "https://localhost:8080/"
        },
        "id": "-7W6AtGg-49-",
        "outputId": "c468b349-6284-46cc-8c3d-ccecdcaf6c2a"
      },
      "source": [
        "#training\n",
        "\n",
        "model.fit(x_train, y_train, epochs=25, verbose=1, validation_data=(x_test, y_test))"
      ],
      "execution_count": null,
      "outputs": [
        {
          "output_type": "stream",
          "name": "stdout",
          "text": [
            "Epoch 1/25\n",
            "1875/1875 [==============================] - 8s 4ms/step - loss: 0.6391 - accuracy: 0.8408 - val_loss: 0.3531 - val_accuracy: 0.9042\n",
            "Epoch 2/25\n",
            "1875/1875 [==============================] - 6s 3ms/step - loss: 0.3347 - accuracy: 0.9064 - val_loss: 0.2936 - val_accuracy: 0.9174\n",
            "Epoch 3/25\n",
            "1875/1875 [==============================] - 6s 3ms/step - loss: 0.2871 - accuracy: 0.9191 - val_loss: 0.2610 - val_accuracy: 0.9263\n",
            "Epoch 4/25\n",
            "1875/1875 [==============================] - 6s 3ms/step - loss: 0.2572 - accuracy: 0.9276 - val_loss: 0.2384 - val_accuracy: 0.9321\n",
            "Epoch 5/25\n",
            "1875/1875 [==============================] - 6s 3ms/step - loss: 0.2350 - accuracy: 0.9340 - val_loss: 0.2191 - val_accuracy: 0.9375\n",
            "Epoch 6/25\n",
            "1875/1875 [==============================] - 5s 3ms/step - loss: 0.2170 - accuracy: 0.9391 - val_loss: 0.2032 - val_accuracy: 0.9417\n",
            "Epoch 7/25\n",
            "1875/1875 [==============================] - 6s 3ms/step - loss: 0.2023 - accuracy: 0.9433 - val_loss: 0.1918 - val_accuracy: 0.9458\n",
            "Epoch 8/25\n",
            "1875/1875 [==============================] - 5s 3ms/step - loss: 0.1891 - accuracy: 0.9472 - val_loss: 0.1807 - val_accuracy: 0.9479\n",
            "Epoch 9/25\n",
            "1875/1875 [==============================] - 6s 3ms/step - loss: 0.1776 - accuracy: 0.9504 - val_loss: 0.1723 - val_accuracy: 0.9501\n",
            "Epoch 10/25\n",
            "1875/1875 [==============================] - 5s 3ms/step - loss: 0.1676 - accuracy: 0.9535 - val_loss: 0.1625 - val_accuracy: 0.9522\n",
            "Epoch 11/25\n",
            "1875/1875 [==============================] - 6s 3ms/step - loss: 0.1585 - accuracy: 0.9559 - val_loss: 0.1549 - val_accuracy: 0.9548\n",
            "Epoch 12/25\n",
            "1875/1875 [==============================] - 5s 3ms/step - loss: 0.1502 - accuracy: 0.9587 - val_loss: 0.1493 - val_accuracy: 0.9562\n",
            "Epoch 13/25\n",
            "1875/1875 [==============================] - 5s 3ms/step - loss: 0.1430 - accuracy: 0.9609 - val_loss: 0.1426 - val_accuracy: 0.9581\n",
            "Epoch 14/25\n",
            "1875/1875 [==============================] - 6s 3ms/step - loss: 0.1361 - accuracy: 0.9627 - val_loss: 0.1364 - val_accuracy: 0.9608\n",
            "Epoch 15/25\n",
            "1875/1875 [==============================] - 5s 3ms/step - loss: 0.1300 - accuracy: 0.9646 - val_loss: 0.1318 - val_accuracy: 0.9613\n",
            "Epoch 16/25\n",
            "1875/1875 [==============================] - 6s 3ms/step - loss: 0.1248 - accuracy: 0.9658 - val_loss: 0.1278 - val_accuracy: 0.9628\n",
            "Epoch 17/25\n",
            "1875/1875 [==============================] - 5s 3ms/step - loss: 0.1195 - accuracy: 0.9671 - val_loss: 0.1247 - val_accuracy: 0.9635\n",
            "Epoch 18/25\n",
            "1875/1875 [==============================] - 7s 4ms/step - loss: 0.1148 - accuracy: 0.9685 - val_loss: 0.1198 - val_accuracy: 0.9649\n",
            "Epoch 19/25\n",
            "1875/1875 [==============================] - 5s 3ms/step - loss: 0.1105 - accuracy: 0.9699 - val_loss: 0.1176 - val_accuracy: 0.9662\n",
            "Epoch 20/25\n",
            "1875/1875 [==============================] - 6s 3ms/step - loss: 0.1065 - accuracy: 0.9712 - val_loss: 0.1138 - val_accuracy: 0.9663\n",
            "Epoch 21/25\n",
            "1875/1875 [==============================] - 5s 3ms/step - loss: 0.1029 - accuracy: 0.9720 - val_loss: 0.1106 - val_accuracy: 0.9677\n",
            "Epoch 22/25\n",
            "1875/1875 [==============================] - 6s 3ms/step - loss: 0.0992 - accuracy: 0.9732 - val_loss: 0.1074 - val_accuracy: 0.9677\n",
            "Epoch 23/25\n",
            "1875/1875 [==============================] - 5s 3ms/step - loss: 0.0961 - accuracy: 0.9741 - val_loss: 0.1048 - val_accuracy: 0.9692\n",
            "Epoch 24/25\n",
            "1875/1875 [==============================] - 5s 3ms/step - loss: 0.0930 - accuracy: 0.9748 - val_loss: 0.1050 - val_accuracy: 0.9687\n",
            "Epoch 25/25\n",
            "1875/1875 [==============================] - 5s 3ms/step - loss: 0.0900 - accuracy: 0.9755 - val_loss: 0.1024 - val_accuracy: 0.9692\n"
          ]
        },
        {
          "output_type": "execute_result",
          "data": {
            "text/plain": [
              "<keras.src.callbacks.History at 0x7f8e04a90df0>"
            ]
          },
          "metadata": {},
          "execution_count": 10
        }
      ]
    },
    {
      "cell_type": "code",
      "metadata": {
        "colab": {
          "base_uri": "https://localhost:8080/",
          "height": 545
        },
        "id": "rY502CX0-up_",
        "outputId": "33c38b9d-ffec-4881-fc26-b0fb03776c33"
      },
      "source": [
        "tf.keras.utils.plot_model(model, show_shapes=True, show_dtype=True, show_layer_names=True)"
      ],
      "execution_count": null,
      "outputs": [
        {
          "output_type": "execute_result",
          "data": {
            "image/png": "[encoded data removed]",
            "text/plain": [
              "<IPython.core.display.Image object>"
            ]
          },
          "metadata": {},
          "execution_count": 12
        }
      ]
    },
    {
      "cell_type": "code",
      "metadata": {
        "id": "JCMH2mOABK-W",
        "colab": {
          "base_uri": "https://localhost:8080/"
        },
        "outputId": "bc9c2311-1514-4b9d-8ee5-ee22090e261b"
      },
      "source": [
        "model.summary()"
      ],
      "execution_count": null,
      "outputs": [
        {
          "output_type": "stream",
          "name": "stdout",
          "text": [
            "Model: \"sequential\"\n",
            "_________________________________________________________________\n",
            " Layer (type)                Output Shape              Param #   \n",
            "=================================================================\n",
            " flatten (Flatten)           (None, 784)               0         \n",
            "                                                                 \n",
            " dense (Dense)               (None, 128)               100480    \n",
            "                                                                 \n",
            " dense_1 (Dense)             (None, 10)                1290      \n",
            "                                                                 \n",
            "=================================================================\n",
            "Total params: 101770 (397.54 KB)\n",
            "Trainable params: 101770 (397.54 KB)\n",
            "Non-trainable params: 0 (0.00 Byte)\n",
            "_________________________________________________________________\n"
          ]
        }
      ]
    }
  ]
}